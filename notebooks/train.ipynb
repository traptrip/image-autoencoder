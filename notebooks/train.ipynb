{
 "cells": [
  {
   "cell_type": "code",
   "execution_count": 1,
   "metadata": {},
   "outputs": [],
   "source": [
    "import torch \n",
    "import torch.nn as nn\n",
    "import torch.nn.functional as F\n",
    "import torchvision\n",
    "from torch.utils.data import DataLoader\n",
    "from torchvision import transforms as T"
   ]
  },
  {
   "cell_type": "code",
   "execution_count": 6,
   "metadata": {},
   "outputs": [],
   "source": [
    "class Encoder(nn.Module):\n",
    "    def __init__(self):\n",
    "        super().__init__()\n",
    "        self.encoder_conv1 = nn.Conv2d(3, 32, 2, 1)\n",
    "        self.encoder_bn1 = nn.BatchNorm2d(32)\n",
    "        self.encoder_conv2 = nn.Conv2d(32, 16, 2, 1)\n",
    "        self.encoder_bn2 = nn.BatchNorm2d(16)\n",
    "        self.encoder_conv3 = nn.Conv2d(16, 3, 2, 2)\n",
    "        self.encoder_bn3 = nn.BatchNorm2d(3)\n",
    "\n",
    "    def forward(self, x):\n",
    "        x = F.relu(self.encoder_bn1(self.encoder_conv1(x)))\n",
    "        x = F.relu(self.encoder_bn2(self.encoder_conv2(x)))\n",
    "        x = F.relu(self.encoder_bn3(self.encoder_conv3(x)))\n",
    "        return x    \n",
    "\n",
    "\n",
    "class Decoder(nn.Module):\n",
    "    def __init__(self) -> None:\n",
    "        super().__init__()\n",
    "        self.decoder_deconv1 = nn.ConvTranspose2d(3, 16, 2, 2)\n",
    "        self.decoder_bn1 = nn.BatchNorm2d(16)\n",
    "        self.decoder_deconv2 = nn.ConvTranspose2d(16, 32, 2, 1)\n",
    "        self.decoder_bn2 = nn.BatchNorm2d(32)\n",
    "        self.decoder_deconv3 = nn.ConvTranspose2d(32, 3, 2, 1)\n",
    "        self.decoder_bn3 = nn.BatchNorm2d(3)\n",
    "        self.sigmoid = nn.Sigmoid()\n",
    "\n",
    "    def forward(self, x):\n",
    "        x = F.relu(self.decoder_bn1(self.decoder_deconv1(x)))\n",
    "        x = F.relu(self.decoder_bn2(self.decoder_deconv2(x)))\n",
    "        x = F.relu(self.decoder_bn3(self.decoder_deconv3(x)))\n",
    "        x = self.sigmoid(x)\n",
    "        return x\n",
    "\n",
    "\n",
    "class AutoEncoder(nn.Module):\n",
    "    def __init__(self, quantize_level) -> None:\n",
    "        super().__init__()\n",
    "        self.encoder = Encoder()\n",
    "        self.decoder = Decoder()\n",
    "        self.quantize_level = quantize_level\n",
    "\n",
    "    def forward(self, x):\n",
    "        # encode input\n",
    "        x = self.encoder(x)\n",
    "\n",
    "        # add noise\n",
    "        x = torch.nn.functional.sigmoid(x)\n",
    "        noise = torch.normal(0.5, 0.5) / (2 ** self.quantize_level)\n",
    "        x += noise\n",
    "        x = torch.log(x / (1 - x))\n",
    "\n",
    "        # decode\n",
    "        x = self.decoder(x)\n",
    "\n",
    "        return x"
   ]
  },
  {
   "cell_type": "code",
   "execution_count": 20,
   "metadata": {},
   "outputs": [],
   "source": [
    "train_transform = torchvision.transforms.Compose([\n",
    "    T.RandomResizedCrop((512, 512)),\n",
    "    T.ToTensor()\n",
    "])\n",
    "test_transform = torchvision.transforms.Compose([\n",
    "    T.CenterCrop((512, 512)),\n",
    "    T.ToTensor()\n",
    "])\n",
    "transform = T.ToTensor()"
   ]
  },
  {
   "cell_type": "code",
   "execution_count": 12,
   "metadata": {},
   "outputs": [
    {
     "name": "stdout",
     "output_type": "stream",
     "text": [
      "Downloading https://www.cs.toronto.edu/~kriz/cifar-10-python.tar.gz to ../data/cifar-10-python.tar.gz\n"
     ]
    },
    {
     "name": "stderr",
     "output_type": "stream",
     "text": [
      "100%|██████████| 170498071/170498071 [00:21<00:00, 7794773.11it/s]\n"
     ]
    },
    {
     "name": "stdout",
     "output_type": "stream",
     "text": [
      "Extracting ../data/cifar-10-python.tar.gz to ../data\n",
      "Files already downloaded and verified\n"
     ]
    }
   ],
   "source": [
    "train_dataset = torchvision.datasets.ImageNet(root='../data', transform=train_transform)\n",
    "test_dataset = torchvision.datasets.ImageNet(root='../data', transform=test_transform)"
   ]
  },
  {
   "cell_type": "code",
   "execution_count": 13,
   "metadata": {},
   "outputs": [],
   "source": [
    "train_dataloader = DataLoader(\n",
    "    train_dataset, batch_size=32, shuffle=True, num_workers=4, pin_memory=True\n",
    ")\n",
    "test_dataloader = DataLoader(\n",
    "    train_dataset, batch_size=32, shuffle=False, num_workers=4, pin_memory=True\n",
    ")"
   ]
  },
  {
   "cell_type": "code",
   "execution_count": null,
   "metadata": {},
   "outputs": [],
   "source": [
    "torch.optim.lr_scheduler.CosineAnnealingLR()"
   ]
  }
 ],
 "metadata": {
  "kernelspec": {
   "display_name": "itmo_compression",
   "language": "python",
   "name": "python3"
  },
  "language_info": {
   "codemirror_mode": {
    "name": "ipython",
    "version": 3
   },
   "file_extension": ".py",
   "mimetype": "text/x-python",
   "name": "python",
   "nbconvert_exporter": "python",
   "pygments_lexer": "ipython3",
   "version": "3.10.11"
  },
  "orig_nbformat": 4
 },
 "nbformat": 4,
 "nbformat_minor": 2
}
